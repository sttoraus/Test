{
 "cells": [
  {
   "cell_type": "markdown",
   "metadata": {},
   "source": [
    "# Typecasting\n",
    "In Pyhton wird der Datentyp einer Variable automatisch bestimmt. Es kann allerdings vorkommen, dass der Datentyp explizit angegegen werden, oder der Datentyp geändert werden muss.  \n",
    "Beispiel:"
   ]
  },
  {
   "cell_type": "code",
   "execution_count": 1,
   "metadata": {},
   "outputs": [
    {
     "name": "stdin",
     "output_type": "stream",
     "text": [
      "Bitte Zahl eingeben jhjg\n"
     ]
    },
    {
     "name": "stdout",
     "output_type": "stream",
     "text": [
      "Sie haben die Zahl jhjg eingegeben\n"
     ]
    }
   ],
   "source": [
    "wert=input(\"Bitte Zahl eingeben\")\n",
    "print(\"Sie haben die Zahl\",wert,\"eingegeben\")\n",
    "if(True):\n",
    "    print(\"\")\n",
    "else:\n",
    "    if()"
   ]
  },
  {
   "cell_type": "code",
   "execution_count": null,
   "metadata": {},
   "outputs": [],
   "source": [
    "# Nun versuchen wir, mit diesem Wert eine Berechnung vorzunehmen:\n",
    "wert=wert+10"
   ]
  },
  {
   "cell_type": "code",
   "execution_count": null,
   "metadata": {},
   "outputs": [],
   "source": [
    "# Warum kommt es nun zu diesem TypeError?\n",
    "print(type(wert))"
   ]
  },
  {
   "cell_type": "markdown",
   "metadata": {},
   "source": [
    "[Wichtig] Input eingeben werden immer als String gespeichert! Da es sich bei Strings um Zeichenketten handelt, können hiermit keine Berechnungen durchgeführt werden! Soll die Bildschirmeingabe für eine Berechnung verwendet werden, muss der Dantentyp geändert (casting) werden.  \n",
    "Beispiel:"
   ]
  },
  {
   "cell_type": "code",
   "execution_count": null,
   "metadata": {},
   "outputs": [],
   "source": [
    "zahl=input(\"Bitte Zahl eingeben\")\n",
    "print(\"Sie haben die Zahl\",zahl,\"eingegeben\")\n",
    "zahl=int(zahl)   # Der String der Variable 'zahl' wird in den Datentype int geändert und in der Variable 'zahl' gespeichert'\n",
    "berechnung=zahl*10\n",
    "print(zahl,\"Mal 10 ergibt\",berechnung)"
   ]
  },
  {
   "cell_type": "code",
   "execution_count": null,
   "metadata": {},
   "outputs": [],
   "source": [
    "test='10'\n",
    "print(\"Die Variable test hat den Inhalt\",test,\"und ist vom Datentyp\",type(test))\n",
    "print(\"Nun folgt das Typecasting:\")\n",
    "test=int(test)\n",
    "print(\"Die Variable test hat den Inhalt\",test,\"und ist vom Datentyp\",type(test))"
   ]
  },
  {
   "cell_type": "code",
   "execution_count": null,
   "metadata": {},
   "outputs": [],
   "source": [
    "Die Bildschirmeingabe kann mit dem Typecasting kombiniert werden."
   ]
  },
  {
   "cell_type": "code",
   "execution_count": null,
   "metadata": {},
   "outputs": [],
   "source": [
    "eingabe=int(input(\"Bitte Zahl eingeben\"))\n",
    "print(type(eingabe))"
   ]
  },
  {
   "cell_type": "markdown",
   "metadata": {},
   "source": [
    "## Aufgaben:"
   ]
  },
  {
   "cell_type": "markdown",
   "metadata": {},
   "source": [
    "1. Eine Bildschirmeingabe soll eingelesen werden.  \n",
    "Die Potenz der eingegebenen Zahl soll ausgegeben werden."
   ]
  },
  {
   "cell_type": "code",
   "execution_count": null,
   "metadata": {},
   "outputs": [],
   "source": []
  },
  {
   "cell_type": "markdown",
   "metadata": {},
   "source": [
    "2. Was liefert folgender Code als Ausgabe? Berichtigen Sie den Code falls nötig"
   ]
  },
  {
   "cell_type": "code",
   "execution_count": null,
   "metadata": {},
   "outputs": [],
   "source": [
    "zahl1=input(\"Bitte eine Zahl eingeben\")\n",
    "zahl2=input(\"Bitte eine weitere Zahl eingeben\")\n",
    "print(\"Die Addition aus\",zahl1,\"und\",zahl2,\"ergibt\",zahl1+zahl2)"
   ]
  },
  {
   "cell_type": "code",
   "execution_count": null,
   "metadata": {},
   "outputs": [],
   "source": []
  },
  {
   "cell_type": "markdown",
   "metadata": {},
   "source": [
    "3.  Versuchen Sie folgende Werte als Integer zu speichern. Was fällt Ihnen dabei auf? "
   ]
  },
  {
   "cell_type": "code",
   "execution_count": 3,
   "metadata": {},
   "outputs": [],
   "source": [
    "a= 10\n",
    "b=10.1\n",
    "c=10.9\n",
    "d=\"10\""
   ]
  },
  {
   "cell_type": "code",
   "execution_count": 4,
   "metadata": {},
   "outputs": [
    {
     "name": "stdout",
     "output_type": "stream",
     "text": [
      "10\n",
      "10\n",
      "10\n",
      "10\n"
     ]
    }
   ],
   "source": []
  },
  {
   "cell_type": "code",
   "execution_count": null,
   "metadata": {},
   "outputs": [],
   "source": [
    "# Aus 10.9 wird 10!"
   ]
  },
  {
   "cell_type": "code",
   "execution_count": null,
   "metadata": {},
   "outputs": [],
   "source": []
  }
 ],
 "metadata": {
  "kernelspec": {
   "display_name": "Python 3",
   "language": "python",
   "name": "python3"
  },
  "language_info": {
   "codemirror_mode": {
    "name": "ipython",
    "version": 3
   },
   "file_extension": ".py",
   "mimetype": "text/x-python",
   "name": "python",
   "nbconvert_exporter": "python",
   "pygments_lexer": "ipython3",
   "version": "3.8.3"
  }
 },
 "nbformat": 4,
 "nbformat_minor": 4
}
